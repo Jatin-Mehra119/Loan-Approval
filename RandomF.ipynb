{
 "cells": [
  {
   "cell_type": "code",
   "execution_count": null,
   "metadata": {},
   "outputs": [],
   "source": [
    "import warnings\n",
    "warnings.filterwarnings(\"ignore\")\n",
    "\n",
    "import pandas as pd\n",
    "\n",
    "cleaned = pd.read_csv(r'C:\\Users\\jatin\\OneDrive\\Desktop\\Loan-Approval\\data\\cleaned\\train.csv')"
   ]
  },
  {
   "cell_type": "code",
   "execution_count": null,
   "metadata": {},
   "outputs": [],
   "source": [
    "from sklearn.model_selection import train_test_split\n",
    "\n",
    "X = cleaned.drop('loan_status', axis=1).copy()\n",
    "y = cleaned['loan_status'].copy()\n",
    "\n",
    "train_X, test_X, train_y, test_y = train_test_split(X, y, test_size=0.2, random_state=42)"
   ]
  },
  {
   "cell_type": "code",
   "execution_count": null,
   "metadata": {},
   "outputs": [],
   "source": [
    "from sklearn.ensemble import RandomForestClassifier\n",
    "from src.trainer import Trainer\n",
    "\n",
    "model = RandomForestClassifier(n_estimators=100, random_state=42)\n",
    "\n",
    "trainer = Trainer(model, run_name='random_forest')\n",
    "\n",
    "model = trainer.fit( train_X, train_y)"
   ]
  },
  {
   "cell_type": "code",
   "execution_count": null,
   "metadata": {},
   "outputs": [],
   "source": [
    "# Hyperparameter tuning\n",
    "\n",
    "parms = {\n",
    "    'n_estimators': [100, 200, 1000],\n",
    "    'max_depth': [5, 10, 20, 30],\n",
    "}\n",
    "\n",
    "Fine_Tuned_model = trainer.hyperparameter_tuning(train_X, train_y, parms)"
   ]
  },
  {
   "cell_type": "code",
   "execution_count": null,
   "metadata": {},
   "outputs": [],
   "source": [
    "# Evaluate the model\n",
    "from src.evaluate import Evaluator\n",
    "\n",
    "evaluator = Evaluator(Fine_Tuned_model, test_X, test_y, run_name='random_forest_fine_tuned')"
   ]
  },
  {
   "cell_type": "code",
   "execution_count": null,
   "metadata": {},
   "outputs": [],
   "source": [
    "# Save the model\n",
    "\n",
    "trainer.save_model(path=r\"C:\\Users\\jatin\\OneDrive\\Desktop\\Loan-Approval\\models\", model_name='Fine_Tuned_model')"
   ]
  }
 ],
 "metadata": {
  "kernelspec": {
   "display_name": "Python 3",
   "language": "python",
   "name": "python3"
  },
  "language_info": {
   "codemirror_mode": {
    "name": "ipython",
    "version": 3
   },
   "file_extension": ".py",
   "mimetype": "text/x-python",
   "name": "python",
   "nbconvert_exporter": "python",
   "pygments_lexer": "ipython3",
   "version": "3.12.3"
  }
 },
 "nbformat": 4,
 "nbformat_minor": 2
}
